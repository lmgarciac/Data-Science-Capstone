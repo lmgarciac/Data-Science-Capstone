{
    "cells": [
        {
            "cell_type": "markdown",
            "metadata": {},
            "source": "# Study on Demography vs Venues/Landmarks of several neighborhoods in the USA "
        },
        {
            "cell_type": "markdown",
            "metadata": {},
            "source": "### Introduction / Business Problem:"
        },
        {
            "cell_type": "markdown",
            "metadata": {},
            "source": "The objective of this study is to investigate about the level of **correlation** there is between a city\u2019s/neighborhood\u2019s preference for **certain types of shops or landmarks** (in the USA) and other variables like their **average income, population or location** in the country. For example: \u00bfDo richer cities/neighborhoods tend to have more beauty salons? \u00bfDo poorer neighborhoods eat more fast food? \u00bfDo more populated cities have less parks?\n\nThis could be useful for:"
        },
        {
            "cell_type": "markdown",
            "metadata": {},
            "source": "* Governments to plan a city\u2019s/neighborhood\u2019s infrastructure.\n* Investors to choose the most suitable places for their businesses."
        },
        {
            "cell_type": "markdown",
            "metadata": {},
            "source": "Some similar studies that could be used to validate the results are the following:\n\n* [Ranking of places with the most fast food](https://priceonomics.com/ranking-the-places-with-the-most-and-least-fast/)\n* [Relationship between city population and urban nature](https://www.citylab.com/equity/2013/04/completely-puzzling-relationship-between-city-population-and-urban-nature/5204/)"
        },
        {
            "cell_type": "markdown",
            "metadata": {},
            "source": "### Data Requirements:"
        },
        {
            "cell_type": "markdown",
            "metadata": {},
            "source": "For this study, data related to several types of venues of a particular neighborhood in the USA will be needed. For this purpose, the **Foursquare API** will be used. Also, other demographical data for each city/neighborhood will be useful, such as **Average Income or Population**. This data will be collected from the **Statistical Atlas** website: [Statistical Atlas](https://statisticalatlas.com/place/Florida/Orlando/Household-Income)"
        },
        {
            "cell_type": "code",
            "execution_count": null,
            "metadata": {},
            "outputs": [],
            "source": ""
        }
    ],
    "metadata": {
        "kernelspec": {
            "display_name": "Python 3.6",
            "language": "python",
            "name": "python3"
        },
        "language_info": {
            "codemirror_mode": {
                "name": "ipython",
                "version": 3
            },
            "file_extension": ".py",
            "mimetype": "text/x-python",
            "name": "python",
            "nbconvert_exporter": "python",
            "pygments_lexer": "ipython3",
            "version": "3.6.9"
        }
    },
    "nbformat": 4,
    "nbformat_minor": 1
}